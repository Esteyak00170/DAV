{
  "nbformat": 4,
  "nbformat_minor": 0,
  "metadata": {
    "colab": {
      "provenance": [],
      "authorship_tag": "ABX9TyPwDtOtVOPD8b0Em+6Jtref",
      "include_colab_link": true
    },
    "kernelspec": {
      "name": "python3",
      "display_name": "Python 3"
    },
    "language_info": {
      "name": "python"
    }
  },
  "cells": [
    {
      "cell_type": "markdown",
      "metadata": {
        "id": "view-in-github",
        "colab_type": "text"
      },
      "source": [
        "<a href=\"https://colab.research.google.com/github/Esteyak00170/DAV/blob/main/stopwords.ipynb\" target=\"_parent\"><img src=\"https://colab.research.google.com/assets/colab-badge.svg\" alt=\"Open In Colab\"/></a>"
      ]
    },
    {
      "cell_type": "code",
      "execution_count": 1,
      "metadata": {
        "colab": {
          "base_uri": "https://localhost:8080/"
        },
        "id": "_H-CPknb6f_Z",
        "outputId": "fcd192c4-b2d4-4fbf-8e60-d2c459efab91"
      },
      "outputs": [
        {
          "output_type": "stream",
          "name": "stderr",
          "text": [
            "[nltk_data] Downloading package stopwords to /root/nltk_data...\n",
            "[nltk_data]   Unzipping corpora/stopwords.zip.\n"
          ]
        },
        {
          "output_type": "execute_result",
          "data": {
            "text/plain": [
              "True"
            ]
          },
          "metadata": {},
          "execution_count": 1
        }
      ],
      "source": [
        "import nltk\n",
        "from nltk.corpus import stopwords\n",
        "nltk.download ('stopwords')"
      ]
    },
    {
      "cell_type": "code",
      "source": [
        "def remove_stop_words(string):\n",
        "  stop_words=set(stopwords.words('english'))\n",
        "  words=string.split()\n",
        "  filtered_words=[word for word in words if word.lower() not in stop_words]\n",
        "  new_string=''.join(filtered_words)\n",
        "  return new_string"
      ],
      "metadata": {
        "id": "UnEdUkuT6jm1"
      },
      "execution_count": 4,
      "outputs": []
    },
    {
      "cell_type": "code",
      "source": [
        "input_string=\"This is an example sentence to remove stop words from.\"\n",
        "result=remove_stop_words(input_string)\n",
        "print(\"original string:\",input_string)\n",
        "print(\"modified string\",result)"
      ],
      "metadata": {
        "colab": {
          "base_uri": "https://localhost:8080/"
        },
        "id": "15hYOjEM6j4c",
        "outputId": "1c05b719-a5b7-4016-a95a-531f007394e1"
      },
      "execution_count": 6,
      "outputs": [
        {
          "output_type": "stream",
          "name": "stdout",
          "text": [
            "original string: This is an example sentence to remove stop words from.\n",
            "modified string examplesentenceremovestopwordsfrom.\n"
          ]
        }
      ]
    },
    {
      "cell_type": "code",
      "source": [
        "import nltk\n",
        "from nltk.corpus import stopwords\n",
        "\n",
        "nltk.download('stopwords')\n",
        "print(stopwords.words('english'))"
      ],
      "metadata": {
        "colab": {
          "base_uri": "https://localhost:8080/"
        },
        "id": "8ziMRWLZ6j7c",
        "outputId": "b3541a44-20b1-47b9-bf68-8a11846cf074"
      },
      "execution_count": 7,
      "outputs": [
        {
          "output_type": "stream",
          "name": "stdout",
          "text": [
            "['i', 'me', 'my', 'myself', 'we', 'our', 'ours', 'ourselves', 'you', \"you're\", \"you've\", \"you'll\", \"you'd\", 'your', 'yours', 'yourself', 'yourselves', 'he', 'him', 'his', 'himself', 'she', \"she's\", 'her', 'hers', 'herself', 'it', \"it's\", 'its', 'itself', 'they', 'them', 'their', 'theirs', 'themselves', 'what', 'which', 'who', 'whom', 'this', 'that', \"that'll\", 'these', 'those', 'am', 'is', 'are', 'was', 'were', 'be', 'been', 'being', 'have', 'has', 'had', 'having', 'do', 'does', 'did', 'doing', 'a', 'an', 'the', 'and', 'but', 'if', 'or', 'because', 'as', 'until', 'while', 'of', 'at', 'by', 'for', 'with', 'about', 'against', 'between', 'into', 'through', 'during', 'before', 'after', 'above', 'below', 'to', 'from', 'up', 'down', 'in', 'out', 'on', 'off', 'over', 'under', 'again', 'further', 'then', 'once', 'here', 'there', 'when', 'where', 'why', 'how', 'all', 'any', 'both', 'each', 'few', 'more', 'most', 'other', 'some', 'such', 'no', 'nor', 'not', 'only', 'own', 'same', 'so', 'than', 'too', 'very', 's', 't', 'can', 'will', 'just', 'don', \"don't\", 'should', \"should've\", 'now', 'd', 'll', 'm', 'o', 're', 've', 'y', 'ain', 'aren', \"aren't\", 'couldn', \"couldn't\", 'didn', \"didn't\", 'doesn', \"doesn't\", 'hadn', \"hadn't\", 'hasn', \"hasn't\", 'haven', \"haven't\", 'isn', \"isn't\", 'ma', 'mightn', \"mightn't\", 'mustn', \"mustn't\", 'needn', \"needn't\", 'shan', \"shan't\", 'shouldn', \"shouldn't\", 'wasn', \"wasn't\", 'weren', \"weren't\", 'won', \"won't\", 'wouldn', \"wouldn't\"]\n"
          ]
        },
        {
          "output_type": "stream",
          "name": "stderr",
          "text": [
            "[nltk_data] Downloading package stopwords to /root/nltk_data...\n",
            "[nltk_data]   Package stopwords is already up-to-date!\n"
          ]
        }
      ]
    },
    {
      "cell_type": "code",
      "source": [
        "import nltk\n",
        "from nltk.corpus import stopwords\n",
        "nltk.download('stopwords')\n",
        "from collections import Counter\n",
        "import matplotlib.pyplot as plt\n",
        "\n",
        "\n",
        "def remove_stop_words(string):\n",
        "    stop_words = set(stopwords.words('english'))\n",
        "    words = string.split()\n",
        "    filtered_words = [word for word in words if word.lower() not in stop_words]\n",
        "    new_string = ' '.join(filtered_words)\n",
        "    return new_string\n",
        "\n",
        "input_string = \"This is an example sentence to remove stop words from.\"\n",
        "result = remove_stop_words(input_string)\n",
        "print(\"Original string:\", input_string)\n",
        "print(\"Modified string:\", result)\n",
        "\n",
        "stop_words = set(stopwords.words('english'))\n",
        "words = input_string.split()\n",
        "stopword_freq = Counter([word for word in words if word.lower() in stop_words])\n",
        "\n",
        "plt.bar(stopword_freq.keys(), stopword_freq.values())\n",
        "plt.xlabel('Stopwords')\n",
        "plt.ylabel('Frequency')\n",
        "plt.title('Frequency of Stopwords')\n",
        "plt.show()\n",
        "\n",
        "\n",
        "from collections import Counter\n",
        "from nltk.corpus import stopwords\n",
        "\n",
        "def remove_stop_words(string):\n",
        "    stop_words = set(stopwords.words('english'))\n",
        "    words = string.split()\n",
        "    filtered_words = [word for word in words if word.lower() not in stop_words]\n",
        "    new_string = ' '.join(filtered_words)\n",
        "    stopwords_removed = [word for word in words if word.lower() in stop_words]\n",
        "    return new_string, Counter(stopwords_removed)\n",
        "\n",
        "input_string = \"This is an example sentence to remove stop words from.\"\n",
        "result, stopwords_freq = remove_stop_words(input_string)\n",
        "\n",
        "print(\"Original string:\", input_string)\n",
        "print(\"Modified string:\", result)\n",
        "print(\"Frequency of stopwords:\", stopwords_freq)"
      ],
      "metadata": {
        "colab": {
          "base_uri": "https://localhost:8080/",
          "height": 594
        },
        "id": "Gbiv7uBe6j--",
        "outputId": "f8199b73-ee6d-494f-c537-29ff121b84a4"
      },
      "execution_count": 10,
      "outputs": [
        {
          "output_type": "stream",
          "name": "stderr",
          "text": [
            "[nltk_data] Downloading package stopwords to /root/nltk_data...\n",
            "[nltk_data]   Package stopwords is already up-to-date!\n"
          ]
        },
        {
          "output_type": "stream",
          "name": "stdout",
          "text": [
            "Original string: This is an example sentence to remove stop words from.\n",
            "Modified string: example sentence remove stop words from.\n"
          ]
        },
        {
          "output_type": "display_data",
          "data": {
            "text/plain": [
              "<Figure size 640x480 with 1 Axes>"
            ],
            "image/png": "[encoded data removed]"
          },
          "metadata": {}
        },
        {
          "output_type": "stream",
          "name": "stdout",
          "text": [
            "Original string: This is an example sentence to remove stop words from.\n",
            "Modified string: example sentence remove stop words from.\n",
            "Frequency of stopwords: Counter({'This': 1, 'is': 1, 'an': 1, 'to': 1})\n"
          ]
        }
      ]
    },
    {
      "cell_type": "code",
      "source": [],
      "metadata": {
        "id": "OTh7e2gh6kGs"
      },
      "execution_count": null,
      "outputs": []
    },
    {
      "cell_type": "code",
      "source": [],
      "metadata": {
        "id": "rUsLW2_T6kJs"
      },
      "execution_count": null,
      "outputs": []
    },
    {
      "cell_type": "code",
      "source": [],
      "metadata": {
        "id": "uroc7gud6kMn"
      },
      "execution_count": null,
      "outputs": []
    },
    {
      "cell_type": "code",
      "source": [],
      "metadata": {
        "id": "AA0lx_cz6kQE"
      },
      "execution_count": null,
      "outputs": []
    },
    {
      "cell_type": "code",
      "source": [],
      "metadata": {
        "id": "B3UjizVv6kSn"
      },
      "execution_count": null,
      "outputs": []
    }
  ]
}