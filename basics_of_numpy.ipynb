{
  "nbformat": 4,
  "nbformat_minor": 0,
  "metadata": {
    "colab": {
      "provenance": [],
      "authorship_tag": "ABX9TyMeXEge1le9MZD6oG6Mg3xX",
      "include_colab_link": true
    },
    "kernelspec": {
      "name": "python3",
      "display_name": "Python 3"
    },
    "language_info": {
      "name": "python"
    }
  },
  "cells": [
    {
      "cell_type": "markdown",
      "metadata": {
        "id": "view-in-github",
        "colab_type": "text"
      },
      "source": [
        "<a href=\"https://colab.research.google.com/github/Esteyak00170/DAV/blob/main/basics_of_numpy.ipynb\" target=\"_parent\"><img src=\"https://colab.research.google.com/assets/colab-badge.svg\" alt=\"Open In Colab\"/></a>"
      ]
    },
    {
      "cell_type": "code",
      "execution_count": 1,
      "metadata": {
        "id": "DMnn74C57Aqz"
      },
      "outputs": [],
      "source": [
        "import numpy as np"
      ]
    },
    {
      "cell_type": "code",
      "source": [
        "arr_1d = np.array([1, 2, 3, 4, 5])\n",
        "arr_2d = np.array([[1, 2, 3],\n",
        "                   [4, 5, 6],\n",
        "                   [7, 8, 9]])\n",
        "arr_3d = np.array([[[1, 2, 3],\n",
        "                    [4, 5, 6]],\n",
        "                   [[7, 8, 9],\n",
        "                    [10, 11, 12]]])"
      ],
      "metadata": {
        "id": "PmTz27I98KWf"
      },
      "execution_count": 2,
      "outputs": []
    },
    {
      "cell_type": "code",
      "source": [
        "print(\"1D Array:\")"
      ],
      "metadata": {
        "colab": {
          "base_uri": "https://localhost:8080/"
        },
        "id": "0z5USFWs8Kbu",
        "outputId": "487f94c8-686d-4c8e-9cd8-691510b8f0fa"
      },
      "execution_count": 3,
      "outputs": [
        {
          "output_type": "stream",
          "name": "stdout",
          "text": [
            "1D Array:\n"
          ]
        }
      ]
    },
    {
      "cell_type": "code",
      "source": [
        "print(\"Shape:\", arr_1d.shape)"
      ],
      "metadata": {
        "colab": {
          "base_uri": "https://localhost:8080/"
        },
        "id": "sBo8GkEL8Khe",
        "outputId": "80e8c4fe-51db-42cb-a36a-7a2990a8f61c"
      },
      "execution_count": 4,
      "outputs": [
        {
          "output_type": "stream",
          "name": "stdout",
          "text": [
            "Shape: (5,)\n"
          ]
        }
      ]
    },
    {
      "cell_type": "code",
      "source": [
        "print(\"Size:\", arr_1d.size)"
      ],
      "metadata": {
        "colab": {
          "base_uri": "https://localhost:8080/"
        },
        "id": "xCe8cs0i8KnO",
        "outputId": "176c496b-43e2-43dc-f6a0-553205a2a88d"
      },
      "execution_count": 5,
      "outputs": [
        {
          "output_type": "stream",
          "name": "stdout",
          "text": [
            "Size: 5\n"
          ]
        }
      ]
    },
    {
      "cell_type": "code",
      "source": [
        "print(\"Dimension:\", arr_1d.ndim)"
      ],
      "metadata": {
        "colab": {
          "base_uri": "https://localhost:8080/"
        },
        "id": "QhSBrSwV8KsP",
        "outputId": "805cb0e0-40c9-4bb4-9d2f-1427de1bd01f"
      },
      "execution_count": 6,
      "outputs": [
        {
          "output_type": "stream",
          "name": "stdout",
          "text": [
            "Dimension: 1\n"
          ]
        }
      ]
    },
    {
      "cell_type": "code",
      "source": [
        "print(\"Length:\", len(arr_1d))\n",
        "print()"
      ],
      "metadata": {
        "colab": {
          "base_uri": "https://localhost:8080/"
        },
        "id": "u5VGWbSP8kXe",
        "outputId": "63ca6470-065a-45f1-972f-6b48574c9128"
      },
      "execution_count": 7,
      "outputs": [
        {
          "output_type": "stream",
          "name": "stdout",
          "text": [
            "Length: 5\n",
            "\n"
          ]
        }
      ]
    },
    {
      "cell_type": "code",
      "source": [
        "print(\"2D Array:\")\n",
        "print(\"Shape:\", arr_2d.shape)\n",
        "print(\"Size:\", arr_2d.size)\n",
        "print(\"Dimension:\", arr_2d.ndim)\n",
        "print(\"Length:\", len(arr_2d))\n",
        "print()"
      ],
      "metadata": {
        "colab": {
          "base_uri": "https://localhost:8080/"
        },
        "id": "rxFR_HbB8kdP",
        "outputId": "ef7e0f6c-e6c4-41cd-e90a-502ed48b7b63"
      },
      "execution_count": 9,
      "outputs": [
        {
          "output_type": "stream",
          "name": "stdout",
          "text": [
            "2D Array:\n",
            "Shape: (3, 3)\n",
            "Size: 9\n",
            "Dimension: 2\n",
            "Length: 3\n",
            "\n"
          ]
        }
      ]
    },
    {
      "cell_type": "code",
      "source": [
        "print(\"3D Array:\")\n",
        "print(\"Shape:\", arr_3d.shape)\n",
        "print(\"Size:\", arr_3d.size)\n",
        "print(\"Dimension:\", arr_3d.ndim)\n",
        "print(\"Length:\", len(arr_3d))\n",
        "print()"
      ],
      "metadata": {
        "colab": {
          "base_uri": "https://localhost:8080/"
        },
        "id": "TmZUGu4d8khA",
        "outputId": "5c3b0862-e7e2-4a2d-da30-6c0313a68c3b"
      },
      "execution_count": 10,
      "outputs": [
        {
          "output_type": "stream",
          "name": "stdout",
          "text": [
            "3D Array:\n",
            "Shape: (2, 2, 3)\n",
            "Size: 12\n",
            "Dimension: 3\n",
            "Length: 2\n",
            "\n"
          ]
        }
      ]
    },
    {
      "cell_type": "code",
      "source": [
        "print(\"Examples of array creation functions:\")"
      ],
      "metadata": {
        "colab": {
          "base_uri": "https://localhost:8080/"
        },
        "id": "28WSL3-18kmm",
        "outputId": "0c74fd77-fbd5-43f4-c9c7-bc4af02490f5"
      },
      "execution_count": 21,
      "outputs": [
        {
          "output_type": "stream",
          "name": "stdout",
          "text": [
            "Examples of array creation functions:\n"
          ]
        }
      ]
    },
    {
      "cell_type": "code",
      "source": [
        "print(\"np.arange(5):\", np.arange(5))\n",
        "print(\"np.random.randint(1, 10, size=(2, 3)):\")"
      ],
      "metadata": {
        "colab": {
          "base_uri": "https://localhost:8080/"
        },
        "id": "yDQ8QftT8_ou",
        "outputId": "fea5769a-bc74-4180-95ab-c99324d7dd0f"
      },
      "execution_count": 12,
      "outputs": [
        {
          "output_type": "stream",
          "name": "stdout",
          "text": [
            "np.arange(5): [0 1 2 3 4]\n",
            "np.random.randint(1, 10, size=(2, 3)):\n"
          ]
        }
      ]
    },
    {
      "cell_type": "code",
      "source": [
        "print(np.random.randint(1, 10, size=(2, 3)))"
      ],
      "metadata": {
        "colab": {
          "base_uri": "https://localhost:8080/"
        },
        "id": "0R2ZP4768_ze",
        "outputId": "6027fb3a-8ad3-4f7b-cabd-1226b3601ce4"
      },
      "execution_count": 13,
      "outputs": [
        {
          "output_type": "stream",
          "name": "stdout",
          "text": [
            "[[5 7 5]\n",
            " [2 8 4]]\n"
          ]
        }
      ]
    },
    {
      "cell_type": "code",
      "source": [
        "print(\"np.random.rand(2, 3):\")\n",
        "print(np.random.rand(2, 3))"
      ],
      "metadata": {
        "colab": {
          "base_uri": "https://localhost:8080/"
        },
        "id": "CAXu5T-j8_3W",
        "outputId": "c4804d9d-9ee0-4032-fdd0-32e2914c583b"
      },
      "execution_count": 16,
      "outputs": [
        {
          "output_type": "stream",
          "name": "stdout",
          "text": [
            "np.random.rand(2, 3):\n",
            "[[0.49536389 0.01974843 0.27560971]\n",
            " [0.35701403 0.54112917 0.28761599]]\n"
          ]
        }
      ]
    },
    {
      "cell_type": "code",
      "source": [
        "print(\"np.linspace(0, 10, 5):\", np.linspace(0, 10, 5))\n",
        "print(\"np.ones((2, 3)):\")"
      ],
      "metadata": {
        "colab": {
          "base_uri": "https://localhost:8080/"
        },
        "id": "mT6_b1_j8_6p",
        "outputId": "b936e1a5-b898-44bd-b67e-4ba39d297d26"
      },
      "execution_count": 17,
      "outputs": [
        {
          "output_type": "stream",
          "name": "stdout",
          "text": [
            "np.linspace(0, 10, 5): [ 0.   2.5  5.   7.5 10. ]\n",
            "np.ones((2, 3)):\n"
          ]
        }
      ]
    },
    {
      "cell_type": "code",
      "source": [
        "print(np.ones((2, 3)))\n",
        "print(\"np.zeros((2, 3)):\")"
      ],
      "metadata": {
        "colab": {
          "base_uri": "https://localhost:8080/"
        },
        "id": "10FPuB-J9fLe",
        "outputId": "89d1149b-961a-43a3-b742-5cb58fbe757b"
      },
      "execution_count": 18,
      "outputs": [
        {
          "output_type": "stream",
          "name": "stdout",
          "text": [
            "[[1. 1. 1.]\n",
            " [1. 1. 1.]]\n",
            "np.zeros((2, 3)):\n"
          ]
        }
      ]
    },
    {
      "cell_type": "code",
      "source": [
        "print(np.zeros((2, 3)))\n",
        "print(\"np.diag([1, 2, 3]):\")"
      ],
      "metadata": {
        "colab": {
          "base_uri": "https://localhost:8080/"
        },
        "id": "H1grjtOA9fwG",
        "outputId": "3d41c12d-2bd4-441c-a644-92eb0c9ee6b8"
      },
      "execution_count": 19,
      "outputs": [
        {
          "output_type": "stream",
          "name": "stdout",
          "text": [
            "[[0. 0. 0.]\n",
            " [0. 0. 0.]]\n",
            "np.diag([1, 2, 3]):\n"
          ]
        }
      ]
    },
    {
      "cell_type": "code",
      "source": [
        "print(np.diag([1, 2, 3]))"
      ],
      "metadata": {
        "colab": {
          "base_uri": "https://localhost:8080/"
        },
        "id": "sQ4THaNG9f7O",
        "outputId": "f50ecc23-9858-4468-d472-85ee6fd25e52"
      },
      "execution_count": 20,
      "outputs": [
        {
          "output_type": "stream",
          "name": "stdout",
          "text": [
            "[[1 0 0]\n",
            " [0 2 0]\n",
            " [0 0 3]]\n"
          ]
        }
      ]
    },
    {
      "cell_type": "code",
      "source": [],
      "metadata": {
        "id": "O63hWCzo9gH-"
      },
      "execution_count": null,
      "outputs": []
    }
  ]
}